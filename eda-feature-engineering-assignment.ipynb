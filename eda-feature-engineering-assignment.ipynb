{
 "cells": [
  {
   "cell_type": "markdown",
   "metadata": {},
   "source": [
    "## Part 1: Understanding the Structure of the dataset\n",
    "- Load the Dataset: Load the dataset into a pandas DataFrame.\n",
    "- Data Types: Identify the data types of each column.\n",
    "- Data Shape: Check the dimensions (rows and columns) of the dataset.\n",
    "- Feature Descriptions: Understand what each feature represents."
   ]
  },
  {
   "cell_type": "code",
   "execution_count": 36,
   "metadata": {},
   "outputs": [
    {
     "data": {
      "text/html": [
       "<div>\n",
       "<style scoped>\n",
       "    .dataframe tbody tr th:only-of-type {\n",
       "        vertical-align: middle;\n",
       "    }\n",
       "\n",
       "    .dataframe tbody tr th {\n",
       "        vertical-align: top;\n",
       "    }\n",
       "\n",
       "    .dataframe thead th {\n",
       "        text-align: right;\n",
       "    }\n",
       "</style>\n",
       "<table border=\"1\" class=\"dataframe\">\n",
       "  <thead>\n",
       "    <tr style=\"text-align: right;\">\n",
       "      <th></th>\n",
       "      <th>Company Name</th>\n",
       "      <th>Car Name</th>\n",
       "      <th>Variant</th>\n",
       "      <th>Fuel Type</th>\n",
       "      <th>Tyre Condition</th>\n",
       "      <th>Make Year</th>\n",
       "      <th>Owner Type</th>\n",
       "      <th>Registration Number</th>\n",
       "      <th>Mileage</th>\n",
       "      <th>Price</th>\n",
       "      <th>Transmission Type</th>\n",
       "      <th>Body Color</th>\n",
       "      <th>Service Record</th>\n",
       "      <th>Insurance</th>\n",
       "      <th>Registration Certificate</th>\n",
       "      <th>Accessories</th>\n",
       "    </tr>\n",
       "  </thead>\n",
       "  <tbody>\n",
       "    <tr>\n",
       "      <th>0</th>\n",
       "      <td>Maruti Suzuki</td>\n",
       "      <td>Cruze</td>\n",
       "      <td>EX</td>\n",
       "      <td>CNG</td>\n",
       "      <td>Needs Replacement</td>\n",
       "      <td>2018</td>\n",
       "      <td>Second</td>\n",
       "      <td>84-436-5584</td>\n",
       "      <td>52798</td>\n",
       "      <td>759107</td>\n",
       "      <td>Manual</td>\n",
       "      <td>Grey</td>\n",
       "      <td>Major Service at 50418 km</td>\n",
       "      <td>No Current Insurance</td>\n",
       "      <td>Not Available</td>\n",
       "      <td>Music System, Sunroof, Alloy Wheels</td>\n",
       "    </tr>\n",
       "    <tr>\n",
       "      <th>1</th>\n",
       "      <td>Kia</td>\n",
       "      <td>Seltos</td>\n",
       "      <td>RXE</td>\n",
       "      <td>Petrol</td>\n",
       "      <td>New</td>\n",
       "      <td>2020</td>\n",
       "      <td>Third</td>\n",
       "      <td>79-114-3166</td>\n",
       "      <td>43412</td>\n",
       "      <td>505071</td>\n",
       "      <td>Automatic</td>\n",
       "      <td>Maroon</td>\n",
       "      <td>Major Service at 131313 km</td>\n",
       "      <td>No Current Insurance</td>\n",
       "      <td>Available</td>\n",
       "      <td>NaN</td>\n",
       "    </tr>\n",
       "    <tr>\n",
       "      <th>2</th>\n",
       "      <td>Kia</td>\n",
       "      <td>Accord</td>\n",
       "      <td>RXE</td>\n",
       "      <td>Petrol</td>\n",
       "      <td>New</td>\n",
       "      <td>2022</td>\n",
       "      <td>Second</td>\n",
       "      <td>41-358-3344</td>\n",
       "      <td>95219</td>\n",
       "      <td>635322</td>\n",
       "      <td>Automatic (Tiptronic)</td>\n",
       "      <td>Black</td>\n",
       "      <td>No Service Record</td>\n",
       "      <td>No Current Insurance</td>\n",
       "      <td>Available</td>\n",
       "      <td>NaN</td>\n",
       "    </tr>\n",
       "    <tr>\n",
       "      <th>3</th>\n",
       "      <td>Nissan</td>\n",
       "      <td>Seltos</td>\n",
       "      <td>Highline</td>\n",
       "      <td>Diesel</td>\n",
       "      <td>Used</td>\n",
       "      <td>2024</td>\n",
       "      <td>Third</td>\n",
       "      <td>92-708-1763</td>\n",
       "      <td>70370</td>\n",
       "      <td>483152</td>\n",
       "      <td>Automatic (Tiptronic)</td>\n",
       "      <td>Maroon</td>\n",
       "      <td>Major Service at 98115 km</td>\n",
       "      <td>Valid Until [date]</td>\n",
       "      <td>Available</td>\n",
       "      <td>Music System, Alloy Wheels</td>\n",
       "    </tr>\n",
       "    <tr>\n",
       "      <th>4</th>\n",
       "      <td>Chevrolet</td>\n",
       "      <td>Kwid</td>\n",
       "      <td>Highline</td>\n",
       "      <td>Petrol</td>\n",
       "      <td>Used</td>\n",
       "      <td>2018</td>\n",
       "      <td>Second</td>\n",
       "      <td>76-154-5485</td>\n",
       "      <td>85852</td>\n",
       "      <td>712961</td>\n",
       "      <td>Automatic (Tiptronic)</td>\n",
       "      <td>Silver</td>\n",
       "      <td>Major Service at 135665 km</td>\n",
       "      <td>No Current Insurance</td>\n",
       "      <td>Not Available</td>\n",
       "      <td>GPS, Music System</td>\n",
       "    </tr>\n",
       "  </tbody>\n",
       "</table>\n",
       "</div>"
      ],
      "text/plain": [
       "    Company Name Car Name   Variant Fuel Type     Tyre Condition  Make Year  \\\n",
       "0  Maruti Suzuki    Cruze        EX       CNG  Needs Replacement       2018   \n",
       "1            Kia   Seltos       RXE    Petrol                New       2020   \n",
       "2            Kia   Accord       RXE    Petrol                New       2022   \n",
       "3         Nissan   Seltos  Highline    Diesel               Used       2024   \n",
       "4      Chevrolet     Kwid  Highline    Petrol               Used       2018   \n",
       "\n",
       "  Owner Type Registration Number  Mileage   Price      Transmission Type  \\\n",
       "0     Second         84-436-5584    52798  759107                 Manual   \n",
       "1      Third         79-114-3166    43412  505071              Automatic   \n",
       "2     Second         41-358-3344    95219  635322  Automatic (Tiptronic)   \n",
       "3      Third         92-708-1763    70370  483152  Automatic (Tiptronic)   \n",
       "4     Second         76-154-5485    85852  712961  Automatic (Tiptronic)   \n",
       "\n",
       "  Body Color              Service Record             Insurance  \\\n",
       "0       Grey   Major Service at 50418 km  No Current Insurance   \n",
       "1     Maroon  Major Service at 131313 km  No Current Insurance   \n",
       "2      Black           No Service Record  No Current Insurance   \n",
       "3     Maroon   Major Service at 98115 km    Valid Until [date]   \n",
       "4     Silver  Major Service at 135665 km  No Current Insurance   \n",
       "\n",
       "  Registration Certificate                          Accessories  \n",
       "0            Not Available  Music System, Sunroof, Alloy Wheels  \n",
       "1                Available                                  NaN  \n",
       "2                Available                                  NaN  \n",
       "3                Available           Music System, Alloy Wheels  \n",
       "4            Not Available                    GPS, Music System  "
      ]
     },
     "execution_count": 36,
     "metadata": {},
     "output_type": "execute_result"
    }
   ],
   "source": [
    "import pandas as pd\n",
    "df = pd.read_csv('second_hand_cars.csv')\n",
    "df.head()"
   ]
  },
  {
   "cell_type": "code",
   "execution_count": 106,
   "metadata": {},
   "outputs": [
    {
     "data": {
      "text/html": [
       "<div>\n",
       "<style scoped>\n",
       "    .dataframe tbody tr th:only-of-type {\n",
       "        vertical-align: middle;\n",
       "    }\n",
       "\n",
       "    .dataframe tbody tr th {\n",
       "        vertical-align: top;\n",
       "    }\n",
       "\n",
       "    .dataframe thead th {\n",
       "        text-align: right;\n",
       "    }\n",
       "</style>\n",
       "<table border=\"1\" class=\"dataframe\">\n",
       "  <thead>\n",
       "    <tr style=\"text-align: right;\">\n",
       "      <th></th>\n",
       "      <th>Company Name</th>\n",
       "      <th>Car Name</th>\n",
       "      <th>Fuel Type</th>\n",
       "      <th>Tyre Condition</th>\n",
       "      <th>Make Year</th>\n",
       "      <th>Owner Type</th>\n",
       "      <th>Registration Number</th>\n",
       "      <th>Mileage</th>\n",
       "      <th>Price</th>\n",
       "      <th>Transmission Type</th>\n",
       "      <th>Body Color</th>\n",
       "      <th>Service Record</th>\n",
       "      <th>Insurance</th>\n",
       "      <th>Registration Certificate</th>\n",
       "    </tr>\n",
       "  </thead>\n",
       "  <tbody>\n",
       "    <tr>\n",
       "      <th>0</th>\n",
       "      <td>Maruti Suzuki</td>\n",
       "      <td>Cruze</td>\n",
       "      <td>CNG</td>\n",
       "      <td>Needs Replacement</td>\n",
       "      <td>2018</td>\n",
       "      <td>Second</td>\n",
       "      <td>84-436-5584</td>\n",
       "      <td>52798</td>\n",
       "      <td>759107</td>\n",
       "      <td>Manual</td>\n",
       "      <td>Grey</td>\n",
       "      <td>Major Service at 50418 km</td>\n",
       "      <td>No Current Insurance</td>\n",
       "      <td>Not Available</td>\n",
       "    </tr>\n",
       "    <tr>\n",
       "      <th>1</th>\n",
       "      <td>Kia</td>\n",
       "      <td>Seltos</td>\n",
       "      <td>Petrol</td>\n",
       "      <td>New</td>\n",
       "      <td>2020</td>\n",
       "      <td>Third</td>\n",
       "      <td>79-114-3166</td>\n",
       "      <td>43412</td>\n",
       "      <td>505071</td>\n",
       "      <td>Automatic</td>\n",
       "      <td>Maroon</td>\n",
       "      <td>Major Service at 131313 km</td>\n",
       "      <td>No Current Insurance</td>\n",
       "      <td>Available</td>\n",
       "    </tr>\n",
       "    <tr>\n",
       "      <th>2</th>\n",
       "      <td>Kia</td>\n",
       "      <td>Accord</td>\n",
       "      <td>Petrol</td>\n",
       "      <td>New</td>\n",
       "      <td>2022</td>\n",
       "      <td>Second</td>\n",
       "      <td>41-358-3344</td>\n",
       "      <td>95219</td>\n",
       "      <td>635322</td>\n",
       "      <td>Automatic (Tiptronic)</td>\n",
       "      <td>Black</td>\n",
       "      <td>No Service Record</td>\n",
       "      <td>No Current Insurance</td>\n",
       "      <td>Available</td>\n",
       "    </tr>\n",
       "    <tr>\n",
       "      <th>3</th>\n",
       "      <td>Nissan</td>\n",
       "      <td>Seltos</td>\n",
       "      <td>Diesel</td>\n",
       "      <td>Used</td>\n",
       "      <td>2024</td>\n",
       "      <td>Third</td>\n",
       "      <td>92-708-1763</td>\n",
       "      <td>70370</td>\n",
       "      <td>483152</td>\n",
       "      <td>Automatic (Tiptronic)</td>\n",
       "      <td>Maroon</td>\n",
       "      <td>Major Service at 98115 km</td>\n",
       "      <td>Valid Until [date]</td>\n",
       "      <td>Available</td>\n",
       "    </tr>\n",
       "    <tr>\n",
       "      <th>4</th>\n",
       "      <td>Chevrolet</td>\n",
       "      <td>Kwid</td>\n",
       "      <td>Petrol</td>\n",
       "      <td>Used</td>\n",
       "      <td>2018</td>\n",
       "      <td>Second</td>\n",
       "      <td>76-154-5485</td>\n",
       "      <td>85852</td>\n",
       "      <td>712961</td>\n",
       "      <td>Automatic (Tiptronic)</td>\n",
       "      <td>Silver</td>\n",
       "      <td>Major Service at 135665 km</td>\n",
       "      <td>No Current Insurance</td>\n",
       "      <td>Not Available</td>\n",
       "    </tr>\n",
       "    <tr>\n",
       "      <th>...</th>\n",
       "      <td>...</td>\n",
       "      <td>...</td>\n",
       "      <td>...</td>\n",
       "      <td>...</td>\n",
       "      <td>...</td>\n",
       "      <td>...</td>\n",
       "      <td>...</td>\n",
       "      <td>...</td>\n",
       "      <td>...</td>\n",
       "      <td>...</td>\n",
       "      <td>...</td>\n",
       "      <td>...</td>\n",
       "      <td>...</td>\n",
       "      <td>...</td>\n",
       "    </tr>\n",
       "    <tr>\n",
       "      <th>2495</th>\n",
       "      <td>Toyota</td>\n",
       "      <td>Elantra</td>\n",
       "      <td>Petrol</td>\n",
       "      <td>New</td>\n",
       "      <td>2015</td>\n",
       "      <td>First</td>\n",
       "      <td>36-450-8953</td>\n",
       "      <td>171112</td>\n",
       "      <td>643581</td>\n",
       "      <td>Automatic</td>\n",
       "      <td>Maroon</td>\n",
       "      <td>Major Service at 105579 km</td>\n",
       "      <td>No Current Insurance</td>\n",
       "      <td>Available</td>\n",
       "    </tr>\n",
       "    <tr>\n",
       "      <th>2496</th>\n",
       "      <td>Kia</td>\n",
       "      <td>Sunny</td>\n",
       "      <td>CNG</td>\n",
       "      <td>Needs Replacement</td>\n",
       "      <td>2024</td>\n",
       "      <td>Second</td>\n",
       "      <td>77-453-7512</td>\n",
       "      <td>93545</td>\n",
       "      <td>889661</td>\n",
       "      <td>Manual</td>\n",
       "      <td>White</td>\n",
       "      <td>Major Service at 112605 km</td>\n",
       "      <td>Valid Until [date]</td>\n",
       "      <td>Not Available</td>\n",
       "    </tr>\n",
       "    <tr>\n",
       "      <th>2497</th>\n",
       "      <td>Nissan</td>\n",
       "      <td>Sunny</td>\n",
       "      <td>Diesel</td>\n",
       "      <td>Used</td>\n",
       "      <td>2022</td>\n",
       "      <td>Third</td>\n",
       "      <td>52-366-2337</td>\n",
       "      <td>47285</td>\n",
       "      <td>327520</td>\n",
       "      <td>Automatic (Tiptronic)</td>\n",
       "      <td>Gold</td>\n",
       "      <td>Full Service History</td>\n",
       "      <td>Valid Until [date]</td>\n",
       "      <td>Not Available</td>\n",
       "    </tr>\n",
       "    <tr>\n",
       "      <th>2498</th>\n",
       "      <td>Honda</td>\n",
       "      <td>Swift</td>\n",
       "      <td>CNG</td>\n",
       "      <td>Needs Replacement</td>\n",
       "      <td>2019</td>\n",
       "      <td>Second</td>\n",
       "      <td>10-872-5236</td>\n",
       "      <td>67437</td>\n",
       "      <td>348921</td>\n",
       "      <td>Manual</td>\n",
       "      <td>Red</td>\n",
       "      <td>Full Service History</td>\n",
       "      <td>Valid Until [date]</td>\n",
       "      <td>Not Available</td>\n",
       "    </tr>\n",
       "    <tr>\n",
       "      <th>2499</th>\n",
       "      <td>Renault</td>\n",
       "      <td>Kwid</td>\n",
       "      <td>Diesel</td>\n",
       "      <td>Needs Replacement</td>\n",
       "      <td>2024</td>\n",
       "      <td>Second</td>\n",
       "      <td>25-274-7784</td>\n",
       "      <td>88084</td>\n",
       "      <td>955324</td>\n",
       "      <td>Automatic</td>\n",
       "      <td>Gold</td>\n",
       "      <td>Full Service History</td>\n",
       "      <td>Valid Until [date]</td>\n",
       "      <td>Available</td>\n",
       "    </tr>\n",
       "  </tbody>\n",
       "</table>\n",
       "<p>2500 rows × 14 columns</p>\n",
       "</div>"
      ],
      "text/plain": [
       "       Company Name Car Name Fuel Type     Tyre Condition  Make Year  \\\n",
       "0     Maruti Suzuki    Cruze       CNG  Needs Replacement       2018   \n",
       "1               Kia   Seltos    Petrol                New       2020   \n",
       "2               Kia   Accord    Petrol                New       2022   \n",
       "3            Nissan   Seltos    Diesel               Used       2024   \n",
       "4         Chevrolet     Kwid    Petrol               Used       2018   \n",
       "...             ...      ...       ...                ...        ...   \n",
       "2495         Toyota  Elantra    Petrol                New       2015   \n",
       "2496            Kia    Sunny       CNG  Needs Replacement       2024   \n",
       "2497         Nissan    Sunny    Diesel               Used       2022   \n",
       "2498          Honda    Swift       CNG  Needs Replacement       2019   \n",
       "2499        Renault     Kwid    Diesel  Needs Replacement       2024   \n",
       "\n",
       "     Owner Type Registration Number  Mileage   Price      Transmission Type  \\\n",
       "0        Second         84-436-5584    52798  759107                 Manual   \n",
       "1         Third         79-114-3166    43412  505071              Automatic   \n",
       "2        Second         41-358-3344    95219  635322  Automatic (Tiptronic)   \n",
       "3         Third         92-708-1763    70370  483152  Automatic (Tiptronic)   \n",
       "4        Second         76-154-5485    85852  712961  Automatic (Tiptronic)   \n",
       "...         ...                 ...      ...     ...                    ...   \n",
       "2495      First         36-450-8953   171112  643581              Automatic   \n",
       "2496     Second         77-453-7512    93545  889661                 Manual   \n",
       "2497      Third         52-366-2337    47285  327520  Automatic (Tiptronic)   \n",
       "2498     Second         10-872-5236    67437  348921                 Manual   \n",
       "2499     Second         25-274-7784    88084  955324              Automatic   \n",
       "\n",
       "     Body Color              Service Record             Insurance  \\\n",
       "0          Grey   Major Service at 50418 km  No Current Insurance   \n",
       "1        Maroon  Major Service at 131313 km  No Current Insurance   \n",
       "2         Black           No Service Record  No Current Insurance   \n",
       "3        Maroon   Major Service at 98115 km    Valid Until [date]   \n",
       "4        Silver  Major Service at 135665 km  No Current Insurance   \n",
       "...         ...                         ...                   ...   \n",
       "2495     Maroon  Major Service at 105579 km  No Current Insurance   \n",
       "2496      White  Major Service at 112605 km    Valid Until [date]   \n",
       "2497       Gold        Full Service History    Valid Until [date]   \n",
       "2498        Red        Full Service History    Valid Until [date]   \n",
       "2499       Gold        Full Service History    Valid Until [date]   \n",
       "\n",
       "     Registration Certificate  \n",
       "0               Not Available  \n",
       "1                   Available  \n",
       "2                   Available  \n",
       "3                   Available  \n",
       "4               Not Available  \n",
       "...                       ...  \n",
       "2495                Available  \n",
       "2496            Not Available  \n",
       "2497            Not Available  \n",
       "2498            Not Available  \n",
       "2499                Available  \n",
       "\n",
       "[2500 rows x 14 columns]"
      ]
     },
     "execution_count": 106,
     "metadata": {},
     "output_type": "execute_result"
    }
   ],
   "source": [
    "df"
   ]
  },
  {
   "cell_type": "code",
   "execution_count": 8,
   "metadata": {},
   "outputs": [
    {
     "name": "stdout",
     "output_type": "stream",
     "text": [
      "<class 'pandas.core.frame.DataFrame'>\n",
      "RangeIndex: 2500 entries, 0 to 2499\n",
      "Data columns (total 16 columns):\n",
      " #   Column                    Non-Null Count  Dtype \n",
      "---  ------                    --------------  ----- \n",
      " 0   Company Name              2500 non-null   object\n",
      " 1   Car Name                  2500 non-null   object\n",
      " 2   Variant                   2238 non-null   object\n",
      " 3   Fuel Type                 2500 non-null   object\n",
      " 4   Tyre Condition            2500 non-null   object\n",
      " 5   Make Year                 2500 non-null   int64 \n",
      " 6   Owner Type                2500 non-null   object\n",
      " 7   Registration Number       2500 non-null   object\n",
      " 8   Mileage                   2500 non-null   int64 \n",
      " 9   Price                     2500 non-null   int64 \n",
      " 10  Transmission Type         2500 non-null   object\n",
      " 11  Body Color                2500 non-null   object\n",
      " 12  Service Record            2500 non-null   object\n",
      " 13  Insurance                 2500 non-null   object\n",
      " 14  Registration Certificate  2500 non-null   object\n",
      " 15  Accessories               2018 non-null   object\n",
      "dtypes: int64(3), object(13)\n",
      "memory usage: 312.6+ KB\n"
     ]
    }
   ],
   "source": [
    "df.info()"
   ]
  },
  {
   "cell_type": "code",
   "execution_count": 10,
   "metadata": {},
   "outputs": [
    {
     "data": {
      "text/plain": [
       "(2500, 16)"
      ]
     },
     "execution_count": 10,
     "metadata": {},
     "output_type": "execute_result"
    }
   ],
   "source": [
    "df.shape"
   ]
  },
  {
   "cell_type": "code",
   "execution_count": 11,
   "metadata": {},
   "outputs": [
    {
     "data": {
      "text/html": [
       "<div>\n",
       "<style scoped>\n",
       "    .dataframe tbody tr th:only-of-type {\n",
       "        vertical-align: middle;\n",
       "    }\n",
       "\n",
       "    .dataframe tbody tr th {\n",
       "        vertical-align: top;\n",
       "    }\n",
       "\n",
       "    .dataframe thead th {\n",
       "        text-align: right;\n",
       "    }\n",
       "</style>\n",
       "<table border=\"1\" class=\"dataframe\">\n",
       "  <thead>\n",
       "    <tr style=\"text-align: right;\">\n",
       "      <th></th>\n",
       "      <th>Make Year</th>\n",
       "      <th>Mileage</th>\n",
       "      <th>Price</th>\n",
       "    </tr>\n",
       "  </thead>\n",
       "  <tbody>\n",
       "    <tr>\n",
       "      <th>count</th>\n",
       "      <td>2500.000000</td>\n",
       "      <td>2500.000000</td>\n",
       "      <td>2500.000000</td>\n",
       "    </tr>\n",
       "    <tr>\n",
       "      <th>mean</th>\n",
       "      <td>2019.521600</td>\n",
       "      <td>104777.792000</td>\n",
       "      <td>608120.897600</td>\n",
       "    </tr>\n",
       "    <tr>\n",
       "      <th>std</th>\n",
       "      <td>2.894146</td>\n",
       "      <td>55544.487467</td>\n",
       "      <td>231056.126713</td>\n",
       "    </tr>\n",
       "    <tr>\n",
       "      <th>min</th>\n",
       "      <td>2015.000000</td>\n",
       "      <td>10010.000000</td>\n",
       "      <td>200176.000000</td>\n",
       "    </tr>\n",
       "    <tr>\n",
       "      <th>25%</th>\n",
       "      <td>2017.000000</td>\n",
       "      <td>56313.000000</td>\n",
       "      <td>407791.000000</td>\n",
       "    </tr>\n",
       "    <tr>\n",
       "      <th>50%</th>\n",
       "      <td>2020.000000</td>\n",
       "      <td>104209.500000</td>\n",
       "      <td>612012.500000</td>\n",
       "    </tr>\n",
       "    <tr>\n",
       "      <th>75%</th>\n",
       "      <td>2022.000000</td>\n",
       "      <td>152149.250000</td>\n",
       "      <td>804567.000000</td>\n",
       "    </tr>\n",
       "    <tr>\n",
       "      <th>max</th>\n",
       "      <td>2024.000000</td>\n",
       "      <td>199755.000000</td>\n",
       "      <td>999826.000000</td>\n",
       "    </tr>\n",
       "  </tbody>\n",
       "</table>\n",
       "</div>"
      ],
      "text/plain": [
       "         Make Year        Mileage          Price\n",
       "count  2500.000000    2500.000000    2500.000000\n",
       "mean   2019.521600  104777.792000  608120.897600\n",
       "std       2.894146   55544.487467  231056.126713\n",
       "min    2015.000000   10010.000000  200176.000000\n",
       "25%    2017.000000   56313.000000  407791.000000\n",
       "50%    2020.000000  104209.500000  612012.500000\n",
       "75%    2022.000000  152149.250000  804567.000000\n",
       "max    2024.000000  199755.000000  999826.000000"
      ]
     },
     "execution_count": 11,
     "metadata": {},
     "output_type": "execute_result"
    }
   ],
   "source": [
    "df.describe()"
   ]
  },
  {
   "cell_type": "markdown",
   "metadata": {},
   "source": [
    "## Part 2: Handling Missing Data and Outliers\n",
    "**Missing Data:**\n",
    "- Identify missing values in the dataset.\n",
    "- Decide on strategies to handle missing data (imputation, deletion, or advanced methods).\n"
   ]
  },
  {
   "cell_type": "code",
   "execution_count": 13,
   "metadata": {},
   "outputs": [
    {
     "data": {
      "text/plain": [
       "Company Name                  0\n",
       "Car Name                      0\n",
       "Variant                     262\n",
       "Fuel Type                     0\n",
       "Tyre Condition                0\n",
       "Make Year                     0\n",
       "Owner Type                    0\n",
       "Registration Number           0\n",
       "Mileage                       0\n",
       "Price                         0\n",
       "Transmission Type             0\n",
       "Body Color                    0\n",
       "Service Record                0\n",
       "Insurance                     0\n",
       "Registration Certificate      0\n",
       "Accessories                 482\n",
       "dtype: int64"
      ]
     },
     "execution_count": 13,
     "metadata": {},
     "output_type": "execute_result"
    }
   ],
   "source": [
    "df.isnull().sum()"
   ]
  },
  {
   "cell_type": "code",
   "execution_count": 37,
   "metadata": {},
   "outputs": [
    {
     "data": {
      "text/plain": [
       "Company Name                0\n",
       "Car Name                    0\n",
       "Fuel Type                   0\n",
       "Tyre Condition              0\n",
       "Make Year                   0\n",
       "Owner Type                  0\n",
       "Registration Number         0\n",
       "Mileage                     0\n",
       "Price                       0\n",
       "Transmission Type           0\n",
       "Body Color                  0\n",
       "Service Record              0\n",
       "Insurance                   0\n",
       "Registration Certificate    0\n",
       "dtype: int64"
      ]
     },
     "execution_count": 37,
     "metadata": {},
     "output_type": "execute_result"
    }
   ],
   "source": [
    "df.drop(columns=['Variant','Accessories'], inplace = True)\n",
    "df.isnull().sum()"
   ]
  },
  {
   "cell_type": "markdown",
   "metadata": {},
   "source": [
    "**Outliers:**\n",
    "- Identify outliers using visualization (box plots, scatter plots) and statistical methods (z-score, IQR).\n",
    "- Decide whether to remove outliers or transform them."
   ]
  },
  {
   "cell_type": "code",
   "execution_count": 39,
   "metadata": {},
   "outputs": [],
   "source": [
    "import matplotlib.pyplot as plt"
   ]
  },
  {
   "cell_type": "code",
   "execution_count": 83,
   "metadata": {},
   "outputs": [
    {
     "data": {
      "text/plain": [
       "Make Year       Axes(0.125,0.53;0.352273x0.35)\n",
       "Mileage      Axes(0.547727,0.53;0.352273x0.35)\n",
       "Price           Axes(0.125,0.11;0.352273x0.35)\n",
       "dtype: object"
      ]
     },
     "execution_count": 83,
     "metadata": {},
     "output_type": "execute_result"
    },
    {
     "data": {
      "image/png": "[encoded data removed]",
      "text/plain": [
       "<Figure size 1500x1500 with 4 Axes>"
      ]
     },
     "metadata": {},
     "output_type": "display_data"
    }
   ],
   "source": [
    "df.plot(kind='box',subplots=True,layout=(2,2), figsize=(15,15))"
   ]
  },
  {
   "cell_type": "code",
   "execution_count": 85,
   "metadata": {},
   "outputs": [
    {
     "data": {
      "image/png": "[encoded data removed]",
      "text/plain": [
       "<Figure size 640x480 with 1 Axes>"
      ]
     },
     "metadata": {},
     "output_type": "display_data"
    }
   ],
   "source": [
    "plt.scatter(df['Make Year'], df['Mileage'])\n",
    "plt.xlabel('Make Year')\n",
    "plt.ylabel('Mileage')\n",
    "plt.show()"
   ]
  },
  {
   "cell_type": "code",
   "execution_count": 60,
   "metadata": {},
   "outputs": [
    {
     "data": {
      "image/png": "[encoded data removed]",
      "text/plain": [
       "<Figure size 640x480 with 1 Axes>"
      ]
     },
     "metadata": {},
     "output_type": "display_data"
    }
   ],
   "source": [
    "plt.scatter(df['Make Year'], df['Price'])\n",
    "plt.xlabel('Make Year')\n",
    "plt.ylabel('Price')\n",
    "plt.show()"
   ]
  },
  {
   "cell_type": "code",
   "execution_count": 61,
   "metadata": {},
   "outputs": [
    {
     "data": {
      "image/png": "[encoded data removed]",
      "text/plain": [
       "<Figure size 640x480 with 1 Axes>"
      ]
     },
     "metadata": {},
     "output_type": "display_data"
    }
   ],
   "source": [
    "plt.scatter(df['Price'], df['Mileage'])\n",
    "plt.xlabel('Price')\n",
    "plt.ylabel('Mileage')\n",
    "plt.show()"
   ]
  },
  {
   "cell_type": "code",
   "execution_count": 66,
   "metadata": {},
   "outputs": [
    {
     "data": {
      "text/plain": [
       "0      -0.525856\n",
       "1       0.165332\n",
       "2       0.856521\n",
       "3       1.547709\n",
       "4      -0.525856\n",
       "          ...   \n",
       "2495   -1.562638\n",
       "2496    1.547709\n",
       "2497    0.856521\n",
       "2498   -0.180262\n",
       "2499    1.547709\n",
       "Name: Make Year, Length: 2500, dtype: float64"
      ]
     },
     "execution_count": 66,
     "metadata": {},
     "output_type": "execute_result"
    }
   ],
   "source": [
    "import scipy.stats as stats\n",
    "\n",
    "stats.zscore(df['Make Year'])\n"
   ]
  },
  {
   "cell_type": "code",
   "execution_count": 67,
   "metadata": {},
   "outputs": [
    {
     "data": {
      "text/plain": [
       "5.0"
      ]
     },
     "execution_count": 67,
     "metadata": {},
     "output_type": "execute_result"
    }
   ],
   "source": [
    "stats.iqr(df['Make Year'])"
   ]
  },
  {
   "cell_type": "code",
   "execution_count": 63,
   "metadata": {},
   "outputs": [
    {
     "data": {
      "text/plain": [
       "0      -0.936010\n",
       "1      -1.105025\n",
       "2      -0.172127\n",
       "3      -0.619588\n",
       "4      -0.340800\n",
       "          ...   \n",
       "2495    1.194493\n",
       "2496   -0.202271\n",
       "2497   -1.035284\n",
       "2498   -0.672403\n",
       "2499   -0.300608\n",
       "Name: Mileage, Length: 2500, dtype: float64"
      ]
     },
     "execution_count": 63,
     "metadata": {},
     "output_type": "execute_result"
    }
   ],
   "source": [
    "stats.zscore(df['Mileage'])"
   ]
  },
  {
   "cell_type": "code",
   "execution_count": 68,
   "metadata": {},
   "outputs": [
    {
     "data": {
      "text/plain": [
       "95836.25"
      ]
     },
     "execution_count": 68,
     "metadata": {},
     "output_type": "execute_result"
    }
   ],
   "source": [
    "stats.iqr(df['Mileage'])"
   ]
  },
  {
   "cell_type": "code",
   "execution_count": 64,
   "metadata": {},
   "outputs": [
    {
     "data": {
      "text/plain": [
       "0       0.653591\n",
       "1      -0.446084\n",
       "2       0.117749\n",
       "3      -0.540968\n",
       "4       0.453834\n",
       "          ...   \n",
       "2495    0.153500\n",
       "2496    1.218736\n",
       "2497   -1.214670\n",
       "2498   -1.122029\n",
       "2499    1.502979\n",
       "Name: Price, Length: 2500, dtype: float64"
      ]
     },
     "execution_count": 64,
     "metadata": {},
     "output_type": "execute_result"
    }
   ],
   "source": [
    "stats.zscore(df['Price'])"
   ]
  },
  {
   "cell_type": "code",
   "execution_count": 69,
   "metadata": {},
   "outputs": [
    {
     "data": {
      "text/plain": [
       "396776.0"
      ]
     },
     "execution_count": 69,
     "metadata": {},
     "output_type": "execute_result"
    }
   ],
   "source": [
    "stats.iqr(df['Price'])"
   ]
  },
  {
   "cell_type": "markdown",
   "metadata": {},
   "source": [
    "## Part 3: Exploratory Data Analysis Techniques\n",
    "**Summary Statistics:**\n",
    "- Calculate basic statistics such as mean, median, mode, standard deviation, and range for numerical data.\n",
    "- Count frequencies and percentages for categorical data.\n"
   ]
  },
  {
   "cell_type": "code",
   "execution_count": 86,
   "metadata": {},
   "outputs": [
    {
     "data": {
      "text/html": [
       "<div>\n",
       "<style scoped>\n",
       "    .dataframe tbody tr th:only-of-type {\n",
       "        vertical-align: middle;\n",
       "    }\n",
       "\n",
       "    .dataframe tbody tr th {\n",
       "        vertical-align: top;\n",
       "    }\n",
       "\n",
       "    .dataframe thead th {\n",
       "        text-align: right;\n",
       "    }\n",
       "</style>\n",
       "<table border=\"1\" class=\"dataframe\">\n",
       "  <thead>\n",
       "    <tr style=\"text-align: right;\">\n",
       "      <th></th>\n",
       "      <th>Make Year</th>\n",
       "      <th>Mileage</th>\n",
       "      <th>Price</th>\n",
       "    </tr>\n",
       "  </thead>\n",
       "  <tbody>\n",
       "    <tr>\n",
       "      <th>count</th>\n",
       "      <td>2500.000000</td>\n",
       "      <td>2500.000000</td>\n",
       "      <td>2500.000000</td>\n",
       "    </tr>\n",
       "    <tr>\n",
       "      <th>mean</th>\n",
       "      <td>2019.521600</td>\n",
       "      <td>104777.792000</td>\n",
       "      <td>608120.897600</td>\n",
       "    </tr>\n",
       "    <tr>\n",
       "      <th>std</th>\n",
       "      <td>2.894146</td>\n",
       "      <td>55544.487467</td>\n",
       "      <td>231056.126713</td>\n",
       "    </tr>\n",
       "    <tr>\n",
       "      <th>min</th>\n",
       "      <td>2015.000000</td>\n",
       "      <td>10010.000000</td>\n",
       "      <td>200176.000000</td>\n",
       "    </tr>\n",
       "    <tr>\n",
       "      <th>25%</th>\n",
       "      <td>2017.000000</td>\n",
       "      <td>56313.000000</td>\n",
       "      <td>407791.000000</td>\n",
       "    </tr>\n",
       "    <tr>\n",
       "      <th>50%</th>\n",
       "      <td>2020.000000</td>\n",
       "      <td>104209.500000</td>\n",
       "      <td>612012.500000</td>\n",
       "    </tr>\n",
       "    <tr>\n",
       "      <th>75%</th>\n",
       "      <td>2022.000000</td>\n",
       "      <td>152149.250000</td>\n",
       "      <td>804567.000000</td>\n",
       "    </tr>\n",
       "    <tr>\n",
       "      <th>max</th>\n",
       "      <td>2024.000000</td>\n",
       "      <td>199755.000000</td>\n",
       "      <td>999826.000000</td>\n",
       "    </tr>\n",
       "  </tbody>\n",
       "</table>\n",
       "</div>"
      ],
      "text/plain": [
       "         Make Year        Mileage          Price\n",
       "count  2500.000000    2500.000000    2500.000000\n",
       "mean   2019.521600  104777.792000  608120.897600\n",
       "std       2.894146   55544.487467  231056.126713\n",
       "min    2015.000000   10010.000000  200176.000000\n",
       "25%    2017.000000   56313.000000  407791.000000\n",
       "50%    2020.000000  104209.500000  612012.500000\n",
       "75%    2022.000000  152149.250000  804567.000000\n",
       "max    2024.000000  199755.000000  999826.000000"
      ]
     },
     "execution_count": 86,
     "metadata": {},
     "output_type": "execute_result"
    }
   ],
   "source": [
    "df.describe()"
   ]
  },
  {
   "cell_type": "code",
   "execution_count": 71,
   "metadata": {},
   "outputs": [
    {
     "data": {
      "text/html": [
       "<div>\n",
       "<style scoped>\n",
       "    .dataframe tbody tr th:only-of-type {\n",
       "        vertical-align: middle;\n",
       "    }\n",
       "\n",
       "    .dataframe tbody tr th {\n",
       "        vertical-align: top;\n",
       "    }\n",
       "\n",
       "    .dataframe thead th {\n",
       "        text-align: right;\n",
       "    }\n",
       "</style>\n",
       "<table border=\"1\" class=\"dataframe\">\n",
       "  <thead>\n",
       "    <tr style=\"text-align: right;\">\n",
       "      <th></th>\n",
       "      <th>Company Name</th>\n",
       "      <th>Car Name</th>\n",
       "      <th>Fuel Type</th>\n",
       "      <th>Tyre Condition</th>\n",
       "      <th>Owner Type</th>\n",
       "      <th>Registration Number</th>\n",
       "      <th>Transmission Type</th>\n",
       "      <th>Body Color</th>\n",
       "      <th>Service Record</th>\n",
       "      <th>Insurance</th>\n",
       "      <th>Registration Certificate</th>\n",
       "    </tr>\n",
       "  </thead>\n",
       "  <tbody>\n",
       "    <tr>\n",
       "      <th>count</th>\n",
       "      <td>2500</td>\n",
       "      <td>2500</td>\n",
       "      <td>2500</td>\n",
       "      <td>2500</td>\n",
       "      <td>2500</td>\n",
       "      <td>2500</td>\n",
       "      <td>2500</td>\n",
       "      <td>2500</td>\n",
       "      <td>2500</td>\n",
       "      <td>2500</td>\n",
       "      <td>2500</td>\n",
       "    </tr>\n",
       "    <tr>\n",
       "      <th>unique</th>\n",
       "      <td>10</td>\n",
       "      <td>10</td>\n",
       "      <td>3</td>\n",
       "      <td>3</td>\n",
       "      <td>3</td>\n",
       "      <td>2500</td>\n",
       "      <td>3</td>\n",
       "      <td>8</td>\n",
       "      <td>849</td>\n",
       "      <td>2</td>\n",
       "      <td>2</td>\n",
       "    </tr>\n",
       "    <tr>\n",
       "      <th>top</th>\n",
       "      <td>Nissan</td>\n",
       "      <td>F-150</td>\n",
       "      <td>CNG</td>\n",
       "      <td>New</td>\n",
       "      <td>Third</td>\n",
       "      <td>84-436-5584</td>\n",
       "      <td>Automatic</td>\n",
       "      <td>Blue</td>\n",
       "      <td>No Service Record</td>\n",
       "      <td>No Current Insurance</td>\n",
       "      <td>Available</td>\n",
       "    </tr>\n",
       "    <tr>\n",
       "      <th>freq</th>\n",
       "      <td>270</td>\n",
       "      <td>270</td>\n",
       "      <td>840</td>\n",
       "      <td>854</td>\n",
       "      <td>855</td>\n",
       "      <td>1</td>\n",
       "      <td>840</td>\n",
       "      <td>336</td>\n",
       "      <td>864</td>\n",
       "      <td>1286</td>\n",
       "      <td>1259</td>\n",
       "    </tr>\n",
       "  </tbody>\n",
       "</table>\n",
       "</div>"
      ],
      "text/plain": [
       "       Company Name Car Name Fuel Type Tyre Condition Owner Type  \\\n",
       "count          2500     2500      2500           2500       2500   \n",
       "unique           10       10         3              3          3   \n",
       "top          Nissan    F-150       CNG            New      Third   \n",
       "freq            270      270       840            854        855   \n",
       "\n",
       "       Registration Number Transmission Type Body Color     Service Record  \\\n",
       "count                 2500              2500       2500               2500   \n",
       "unique                2500                 3          8                849   \n",
       "top            84-436-5584         Automatic       Blue  No Service Record   \n",
       "freq                     1               840        336                864   \n",
       "\n",
       "                   Insurance Registration Certificate  \n",
       "count                   2500                     2500  \n",
       "unique                     2                        2  \n",
       "top     No Current Insurance                Available  \n",
       "freq                    1286                     1259  "
      ]
     },
     "execution_count": 71,
     "metadata": {},
     "output_type": "execute_result"
    }
   ],
   "source": [
    "df.describe(include=['object'])\n"
   ]
  },
  {
   "cell_type": "markdown",
   "metadata": {},
   "source": [
    "**Data Visualization:**\n",
    "- Use plots like histograms, box plots, scatter plots, and bar charts to visualize distributions, relationships between variables, and trends."
   ]
  },
  {
   "cell_type": "code",
   "execution_count": 91,
   "metadata": {},
   "outputs": [
    {
     "data": {
      "text/plain": [
       "array([[<Axes: title={'center': 'Make Year'}>,\n",
       "        <Axes: title={'center': 'Mileage'}>],\n",
       "       [<Axes: title={'center': 'Price'}>, <Axes: >]], dtype=object)"
      ]
     },
     "execution_count": 91,
     "metadata": {},
     "output_type": "execute_result"
    },
    {
     "data": {
      "image/png": "[encoded data removed]",
      "text/plain": [
       "<Figure size 1500x1500 with 4 Axes>"
      ]
     },
     "metadata": {},
     "output_type": "display_data"
    }
   ],
   "source": [
    "df.hist(bins= 25, figsize=(15,15))"
   ]
  },
  {
   "cell_type": "code",
   "execution_count": 103,
   "metadata": {},
   "outputs": [
    {
     "data": {
      "image/png": "[encoded data removed]",
      "text/plain": [
       "<Figure size 640x480 with 1 Axes>"
      ]
     },
     "metadata": {},
     "output_type": "display_data"
    }
   ],
   "source": [
    "import seaborn as sns\n",
    "\n",
    "sns.barplot(x='Car Name', y='Price', data=df )\n",
    "plt.show()"
   ]
  },
  {
   "cell_type": "code",
   "execution_count": 104,
   "metadata": {},
   "outputs": [
    {
     "data": {
      "text/plain": [
       "<Axes: xlabel='Car Name', ylabel='Mileage'>"
      ]
     },
     "execution_count": 104,
     "metadata": {},
     "output_type": "execute_result"
    },
    {
     "data": {
      "image/png": "[encoded data removed]",
      "text/plain": [
       "<Figure size 640x480 with 1 Axes>"
      ]
     },
     "metadata": {},
     "output_type": "display_data"
    }
   ],
   "source": [
    "sns.barplot(x='Car Name', y='Mileage', data=df)"
   ]
  },
  {
   "cell_type": "markdown",
   "metadata": {},
   "source": [
    "## Part 4: Feature Engineering\n",
    "**Creating New Features:**\n",
    "- Extract new features from existing ones, such as extracting year from Make Year.\n",
    "- Convert categorical variables into dummy variables.\n"
   ]
  },
  {
   "cell_type": "code",
   "execution_count": 118,
   "metadata": {},
   "outputs": [],
   "source": [
    "\n",
    "df['Make Year'] = pd.to_datetime(df['Make Year'])\n"
   ]
  },
  {
   "cell_type": "code",
   "execution_count": 124,
   "metadata": {},
   "outputs": [
    {
     "name": "stdout",
     "output_type": "stream",
     "text": [
      "<class 'pandas.core.frame.DataFrame'>\n",
      "RangeIndex: 2500 entries, 0 to 2499\n",
      "Data columns (total 15 columns):\n",
      " #   Column                    Non-Null Count  Dtype         \n",
      "---  ------                    --------------  -----         \n",
      " 0   Company Name              2500 non-null   object        \n",
      " 1   Car Name                  2500 non-null   object        \n",
      " 2   Fuel Type                 2500 non-null   object        \n",
      " 3   Tyre Condition            2500 non-null   object        \n",
      " 4   Make Year                 2500 non-null   datetime64[ns]\n",
      " 5   Owner Type                2500 non-null   object        \n",
      " 6   Registration Number       2500 non-null   object        \n",
      " 7   Mileage                   2500 non-null   int64         \n",
      " 8   Price                     2500 non-null   int64         \n",
      " 9   Transmission Type         2500 non-null   object        \n",
      " 10  Body Color                2500 non-null   object        \n",
      " 11  Service Record            2500 non-null   object        \n",
      " 12  Insurance                 2500 non-null   object        \n",
      " 13  Registration Certificate  2500 non-null   object        \n",
      " 14  Year                      2500 non-null   int32         \n",
      "dtypes: datetime64[ns](1), int32(1), int64(2), object(11)\n",
      "memory usage: 283.3+ KB\n"
     ]
    }
   ],
   "source": [
    "df.info()"
   ]
  },
  {
   "cell_type": "code",
   "execution_count": 121,
   "metadata": {},
   "outputs": [],
   "source": [
    "df['Year'] = df['Make Year'].dt.year"
   ]
  },
  {
   "cell_type": "code",
   "execution_count": 125,
   "metadata": {},
   "outputs": [
    {
     "data": {
      "text/html": [
       "<div>\n",
       "<style scoped>\n",
       "    .dataframe tbody tr th:only-of-type {\n",
       "        vertical-align: middle;\n",
       "    }\n",
       "\n",
       "    .dataframe tbody tr th {\n",
       "        vertical-align: top;\n",
       "    }\n",
       "\n",
       "    .dataframe thead th {\n",
       "        text-align: right;\n",
       "    }\n",
       "</style>\n",
       "<table border=\"1\" class=\"dataframe\">\n",
       "  <thead>\n",
       "    <tr style=\"text-align: right;\">\n",
       "      <th></th>\n",
       "      <th>Company Name</th>\n",
       "      <th>Car Name</th>\n",
       "      <th>Fuel Type</th>\n",
       "      <th>Tyre Condition</th>\n",
       "      <th>Make Year</th>\n",
       "      <th>Owner Type</th>\n",
       "      <th>Registration Number</th>\n",
       "      <th>Mileage</th>\n",
       "      <th>Price</th>\n",
       "      <th>Transmission Type</th>\n",
       "      <th>Body Color</th>\n",
       "      <th>Service Record</th>\n",
       "      <th>Insurance</th>\n",
       "      <th>Registration Certificate</th>\n",
       "      <th>Year</th>\n",
       "    </tr>\n",
       "  </thead>\n",
       "  <tbody>\n",
       "    <tr>\n",
       "      <th>0</th>\n",
       "      <td>Maruti Suzuki</td>\n",
       "      <td>Cruze</td>\n",
       "      <td>CNG</td>\n",
       "      <td>Needs Replacement</td>\n",
       "      <td>1970-01-01 00:00:00.000002018</td>\n",
       "      <td>Second</td>\n",
       "      <td>84-436-5584</td>\n",
       "      <td>52798</td>\n",
       "      <td>759107</td>\n",
       "      <td>Manual</td>\n",
       "      <td>Grey</td>\n",
       "      <td>Major Service at 50418 km</td>\n",
       "      <td>No Current Insurance</td>\n",
       "      <td>Not Available</td>\n",
       "      <td>1970</td>\n",
       "    </tr>\n",
       "    <tr>\n",
       "      <th>1</th>\n",
       "      <td>Kia</td>\n",
       "      <td>Seltos</td>\n",
       "      <td>Petrol</td>\n",
       "      <td>New</td>\n",
       "      <td>1970-01-01 00:00:00.000002020</td>\n",
       "      <td>Third</td>\n",
       "      <td>79-114-3166</td>\n",
       "      <td>43412</td>\n",
       "      <td>505071</td>\n",
       "      <td>Automatic</td>\n",
       "      <td>Maroon</td>\n",
       "      <td>Major Service at 131313 km</td>\n",
       "      <td>No Current Insurance</td>\n",
       "      <td>Available</td>\n",
       "      <td>1970</td>\n",
       "    </tr>\n",
       "    <tr>\n",
       "      <th>2</th>\n",
       "      <td>Kia</td>\n",
       "      <td>Accord</td>\n",
       "      <td>Petrol</td>\n",
       "      <td>New</td>\n",
       "      <td>1970-01-01 00:00:00.000002022</td>\n",
       "      <td>Second</td>\n",
       "      <td>41-358-3344</td>\n",
       "      <td>95219</td>\n",
       "      <td>635322</td>\n",
       "      <td>Automatic (Tiptronic)</td>\n",
       "      <td>Black</td>\n",
       "      <td>No Service Record</td>\n",
       "      <td>No Current Insurance</td>\n",
       "      <td>Available</td>\n",
       "      <td>1970</td>\n",
       "    </tr>\n",
       "    <tr>\n",
       "      <th>3</th>\n",
       "      <td>Nissan</td>\n",
       "      <td>Seltos</td>\n",
       "      <td>Diesel</td>\n",
       "      <td>Used</td>\n",
       "      <td>1970-01-01 00:00:00.000002024</td>\n",
       "      <td>Third</td>\n",
       "      <td>92-708-1763</td>\n",
       "      <td>70370</td>\n",
       "      <td>483152</td>\n",
       "      <td>Automatic (Tiptronic)</td>\n",
       "      <td>Maroon</td>\n",
       "      <td>Major Service at 98115 km</td>\n",
       "      <td>Valid Until [date]</td>\n",
       "      <td>Available</td>\n",
       "      <td>1970</td>\n",
       "    </tr>\n",
       "    <tr>\n",
       "      <th>4</th>\n",
       "      <td>Chevrolet</td>\n",
       "      <td>Kwid</td>\n",
       "      <td>Petrol</td>\n",
       "      <td>Used</td>\n",
       "      <td>1970-01-01 00:00:00.000002018</td>\n",
       "      <td>Second</td>\n",
       "      <td>76-154-5485</td>\n",
       "      <td>85852</td>\n",
       "      <td>712961</td>\n",
       "      <td>Automatic (Tiptronic)</td>\n",
       "      <td>Silver</td>\n",
       "      <td>Major Service at 135665 km</td>\n",
       "      <td>No Current Insurance</td>\n",
       "      <td>Not Available</td>\n",
       "      <td>1970</td>\n",
       "    </tr>\n",
       "  </tbody>\n",
       "</table>\n",
       "</div>"
      ],
      "text/plain": [
       "    Company Name Car Name Fuel Type     Tyre Condition  \\\n",
       "0  Maruti Suzuki    Cruze       CNG  Needs Replacement   \n",
       "1            Kia   Seltos    Petrol                New   \n",
       "2            Kia   Accord    Petrol                New   \n",
       "3         Nissan   Seltos    Diesel               Used   \n",
       "4      Chevrolet     Kwid    Petrol               Used   \n",
       "\n",
       "                      Make Year Owner Type Registration Number  Mileage  \\\n",
       "0 1970-01-01 00:00:00.000002018     Second         84-436-5584    52798   \n",
       "1 1970-01-01 00:00:00.000002020      Third         79-114-3166    43412   \n",
       "2 1970-01-01 00:00:00.000002022     Second         41-358-3344    95219   \n",
       "3 1970-01-01 00:00:00.000002024      Third         92-708-1763    70370   \n",
       "4 1970-01-01 00:00:00.000002018     Second         76-154-5485    85852   \n",
       "\n",
       "    Price      Transmission Type Body Color              Service Record  \\\n",
       "0  759107                 Manual       Grey   Major Service at 50418 km   \n",
       "1  505071              Automatic     Maroon  Major Service at 131313 km   \n",
       "2  635322  Automatic (Tiptronic)      Black           No Service Record   \n",
       "3  483152  Automatic (Tiptronic)     Maroon   Major Service at 98115 km   \n",
       "4  712961  Automatic (Tiptronic)     Silver  Major Service at 135665 km   \n",
       "\n",
       "              Insurance Registration Certificate  Year  \n",
       "0  No Current Insurance            Not Available  1970  \n",
       "1  No Current Insurance                Available  1970  \n",
       "2  No Current Insurance                Available  1970  \n",
       "3    Valid Until [date]                Available  1970  \n",
       "4  No Current Insurance            Not Available  1970  "
      ]
     },
     "execution_count": 125,
     "metadata": {},
     "output_type": "execute_result"
    }
   ],
   "source": [
    "df.head()"
   ]
  },
  {
   "cell_type": "code",
   "execution_count": 128,
   "metadata": {},
   "outputs": [
    {
     "name": "stdout",
     "output_type": "stream",
     "text": [
      "Requirement already satisfied: scikit-learn in /opt/anaconda3/lib/python3.11/site-packages (1.2.2)\n",
      "Requirement already satisfied: numpy>=1.17.3 in /opt/anaconda3/lib/python3.11/site-packages (from scikit-learn) (1.26.4)\n",
      "Requirement already satisfied: scipy>=1.3.2 in /opt/anaconda3/lib/python3.11/site-packages (from scikit-learn) (1.11.4)\n",
      "Requirement already satisfied: joblib>=1.1.1 in /opt/anaconda3/lib/python3.11/site-packages (from scikit-learn) (1.2.0)\n",
      "Requirement already satisfied: threadpoolctl>=2.0.0 in /opt/anaconda3/lib/python3.11/site-packages (from scikit-learn) (2.2.0)\n"
     ]
    }
   ],
   "source": [
    "! pip install scikit-learn"
   ]
  },
  {
   "cell_type": "code",
   "execution_count": 137,
   "metadata": {},
   "outputs": [
    {
     "data": {
      "text/html": [
       "<div>\n",
       "<style scoped>\n",
       "    .dataframe tbody tr th:only-of-type {\n",
       "        vertical-align: middle;\n",
       "    }\n",
       "\n",
       "    .dataframe tbody tr th {\n",
       "        vertical-align: top;\n",
       "    }\n",
       "\n",
       "    .dataframe thead th {\n",
       "        text-align: right;\n",
       "    }\n",
       "</style>\n",
       "<table border=\"1\" class=\"dataframe\">\n",
       "  <thead>\n",
       "    <tr style=\"text-align: right;\">\n",
       "      <th></th>\n",
       "      <th>0</th>\n",
       "    </tr>\n",
       "  </thead>\n",
       "  <tbody>\n",
       "    <tr>\n",
       "      <th>0</th>\n",
       "      <td>1</td>\n",
       "    </tr>\n",
       "    <tr>\n",
       "      <th>1</th>\n",
       "      <td>0</td>\n",
       "    </tr>\n",
       "    <tr>\n",
       "      <th>2</th>\n",
       "      <td>0</td>\n",
       "    </tr>\n",
       "    <tr>\n",
       "      <th>3</th>\n",
       "      <td>0</td>\n",
       "    </tr>\n",
       "    <tr>\n",
       "      <th>4</th>\n",
       "      <td>1</td>\n",
       "    </tr>\n",
       "    <tr>\n",
       "      <th>...</th>\n",
       "      <td>...</td>\n",
       "    </tr>\n",
       "    <tr>\n",
       "      <th>2495</th>\n",
       "      <td>0</td>\n",
       "    </tr>\n",
       "    <tr>\n",
       "      <th>2496</th>\n",
       "      <td>1</td>\n",
       "    </tr>\n",
       "    <tr>\n",
       "      <th>2497</th>\n",
       "      <td>1</td>\n",
       "    </tr>\n",
       "    <tr>\n",
       "      <th>2498</th>\n",
       "      <td>1</td>\n",
       "    </tr>\n",
       "    <tr>\n",
       "      <th>2499</th>\n",
       "      <td>0</td>\n",
       "    </tr>\n",
       "  </tbody>\n",
       "</table>\n",
       "<p>2500 rows × 1 columns</p>\n",
       "</div>"
      ],
      "text/plain": [
       "      0\n",
       "0     1\n",
       "1     0\n",
       "2     0\n",
       "3     0\n",
       "4     1\n",
       "...  ..\n",
       "2495  0\n",
       "2496  1\n",
       "2497  1\n",
       "2498  1\n",
       "2499  0\n",
       "\n",
       "[2500 rows x 1 columns]"
      ]
     },
     "metadata": {},
     "output_type": "display_data"
    }
   ],
   "source": [
    "from sklearn.preprocessing import LabelBinarizer\n",
    "df1 = df.copy()\n",
    "label_binarizer = LabelBinarizer()\n",
    "label_binarizer_output = label_binarizer.fit_transform(df['Registration Certificate'])\n",
    "result_df = pd.DataFrame(label_binarizer_output)\n",
    "display(result_df)"
   ]
  },
  {
   "cell_type": "markdown",
   "metadata": {},
   "source": [
    "**Transforming Existing Features:**\n",
    "- Normalize or standardize numerical features.\n",
    "- Bin continuous variables into categorical ones.\n",
    "- Encode categorical variables into numerical form using label encoding or one-hot encoding.\n"
   ]
  },
  {
   "cell_type": "code",
   "execution_count": 143,
   "metadata": {},
   "outputs": [],
   "source": [
    "data = pd.read_csv('second_hand_cars.csv')\n",
    "data.drop(columns=['Company Name', 'Car Name','Variant','Tyre Condition', 'Owner Type', 'Registration Number','Transmission Type','Body Color','Service Record', 'Insurance','Registration Certificate','Accessories'], inplace=True)"
   ]
  },
  {
   "cell_type": "code",
   "execution_count": 147,
   "metadata": {},
   "outputs": [],
   "source": [
    "data.drop(columns='Fuel Type', inplace=True)"
   ]
  },
  {
   "cell_type": "code",
   "execution_count": 148,
   "metadata": {},
   "outputs": [
    {
     "data": {
      "text/html": [
       "<div>\n",
       "<style scoped>\n",
       "    .dataframe tbody tr th:only-of-type {\n",
       "        vertical-align: middle;\n",
       "    }\n",
       "\n",
       "    .dataframe tbody tr th {\n",
       "        vertical-align: top;\n",
       "    }\n",
       "\n",
       "    .dataframe thead th {\n",
       "        text-align: right;\n",
       "    }\n",
       "</style>\n",
       "<table border=\"1\" class=\"dataframe\">\n",
       "  <thead>\n",
       "    <tr style=\"text-align: right;\">\n",
       "      <th></th>\n",
       "      <th>Make Year</th>\n",
       "      <th>Mileage</th>\n",
       "      <th>Price</th>\n",
       "    </tr>\n",
       "  </thead>\n",
       "  <tbody>\n",
       "    <tr>\n",
       "      <th>0</th>\n",
       "      <td>2018</td>\n",
       "      <td>52798</td>\n",
       "      <td>759107</td>\n",
       "    </tr>\n",
       "    <tr>\n",
       "      <th>1</th>\n",
       "      <td>2020</td>\n",
       "      <td>43412</td>\n",
       "      <td>505071</td>\n",
       "    </tr>\n",
       "    <tr>\n",
       "      <th>2</th>\n",
       "      <td>2022</td>\n",
       "      <td>95219</td>\n",
       "      <td>635322</td>\n",
       "    </tr>\n",
       "    <tr>\n",
       "      <th>3</th>\n",
       "      <td>2024</td>\n",
       "      <td>70370</td>\n",
       "      <td>483152</td>\n",
       "    </tr>\n",
       "    <tr>\n",
       "      <th>4</th>\n",
       "      <td>2018</td>\n",
       "      <td>85852</td>\n",
       "      <td>712961</td>\n",
       "    </tr>\n",
       "    <tr>\n",
       "      <th>...</th>\n",
       "      <td>...</td>\n",
       "      <td>...</td>\n",
       "      <td>...</td>\n",
       "    </tr>\n",
       "    <tr>\n",
       "      <th>2495</th>\n",
       "      <td>2015</td>\n",
       "      <td>171112</td>\n",
       "      <td>643581</td>\n",
       "    </tr>\n",
       "    <tr>\n",
       "      <th>2496</th>\n",
       "      <td>2024</td>\n",
       "      <td>93545</td>\n",
       "      <td>889661</td>\n",
       "    </tr>\n",
       "    <tr>\n",
       "      <th>2497</th>\n",
       "      <td>2022</td>\n",
       "      <td>47285</td>\n",
       "      <td>327520</td>\n",
       "    </tr>\n",
       "    <tr>\n",
       "      <th>2498</th>\n",
       "      <td>2019</td>\n",
       "      <td>67437</td>\n",
       "      <td>348921</td>\n",
       "    </tr>\n",
       "    <tr>\n",
       "      <th>2499</th>\n",
       "      <td>2024</td>\n",
       "      <td>88084</td>\n",
       "      <td>955324</td>\n",
       "    </tr>\n",
       "  </tbody>\n",
       "</table>\n",
       "<p>2500 rows × 3 columns</p>\n",
       "</div>"
      ],
      "text/plain": [
       "      Make Year  Mileage   Price\n",
       "0          2018    52798  759107\n",
       "1          2020    43412  505071\n",
       "2          2022    95219  635322\n",
       "3          2024    70370  483152\n",
       "4          2018    85852  712961\n",
       "...         ...      ...     ...\n",
       "2495       2015   171112  643581\n",
       "2496       2024    93545  889661\n",
       "2497       2022    47285  327520\n",
       "2498       2019    67437  348921\n",
       "2499       2024    88084  955324\n",
       "\n",
       "[2500 rows x 3 columns]"
      ]
     },
     "execution_count": 148,
     "metadata": {},
     "output_type": "execute_result"
    }
   ],
   "source": [
    "data"
   ]
  },
  {
   "cell_type": "code",
   "execution_count": 151,
   "metadata": {},
   "outputs": [
    {
     "data": {
      "text/plain": [
       "array([[-0.52585604, -0.93600992,  0.65359145],\n",
       "       [ 0.16533224, -1.10502539, -0.44608431],\n",
       "       [ 0.85652051, -0.17212697,  0.11774864],\n",
       "       ...,\n",
       "       [ 0.85652051, -1.03528355, -1.21467039],\n",
       "       [-0.1802619 , -0.67240268, -1.12202934],\n",
       "       [ 1.54770879, -0.30060826,  1.50297925]])"
      ]
     },
     "execution_count": 151,
     "metadata": {},
     "output_type": "execute_result"
    }
   ],
   "source": [
    "from sklearn.preprocessing import StandardScaler, MinMaxScaler\n",
    "\n",
    "scaler = StandardScaler()\n",
    "data_scaled = scaler.fit_transform(data)\n",
    "data_scaled"
   ]
  },
  {
   "cell_type": "code",
   "execution_count": 152,
   "metadata": {},
   "outputs": [
    {
     "data": {
      "text/plain": [
       "array([[0.33333333, 0.22550265, 0.69896955],\n",
       "       [0.55555556, 0.17603626, 0.38128556],\n",
       "       [0.77777778, 0.44907112, 0.54417057],\n",
       "       ...,\n",
       "       [0.77777778, 0.19644786, 0.15924967],\n",
       "       [0.44444444, 0.30265356, 0.18601263],\n",
       "       [1.        , 0.41146802, 0.94434815]])"
      ]
     },
     "execution_count": 152,
     "metadata": {},
     "output_type": "execute_result"
    }
   ],
   "source": [
    "minmax_scaler = MinMaxScaler()\n",
    "normalized_data = minmax_scaler.fit_transform(data)\n",
    "normalized_data"
   ]
  },
  {
   "cell_type": "code",
   "execution_count": 155,
   "metadata": {},
   "outputs": [
    {
     "data": {
      "text/html": [
       "<div>\n",
       "<style scoped>\n",
       "    .dataframe tbody tr th:only-of-type {\n",
       "        vertical-align: middle;\n",
       "    }\n",
       "\n",
       "    .dataframe tbody tr th {\n",
       "        vertical-align: top;\n",
       "    }\n",
       "\n",
       "    .dataframe thead th {\n",
       "        text-align: right;\n",
       "    }\n",
       "</style>\n",
       "<table border=\"1\" class=\"dataframe\">\n",
       "  <thead>\n",
       "    <tr style=\"text-align: right;\">\n",
       "      <th></th>\n",
       "      <th>Make Year</th>\n",
       "      <th>Mileage</th>\n",
       "      <th>Price</th>\n",
       "    </tr>\n",
       "  </thead>\n",
       "  <tbody>\n",
       "    <tr>\n",
       "      <th>0</th>\n",
       "      <td>2018</td>\n",
       "      <td>52798</td>\n",
       "      <td>759107</td>\n",
       "    </tr>\n",
       "    <tr>\n",
       "      <th>1</th>\n",
       "      <td>2020</td>\n",
       "      <td>43412</td>\n",
       "      <td>505071</td>\n",
       "    </tr>\n",
       "    <tr>\n",
       "      <th>2</th>\n",
       "      <td>2022</td>\n",
       "      <td>95219</td>\n",
       "      <td>635322</td>\n",
       "    </tr>\n",
       "    <tr>\n",
       "      <th>3</th>\n",
       "      <td>2024</td>\n",
       "      <td>70370</td>\n",
       "      <td>483152</td>\n",
       "    </tr>\n",
       "    <tr>\n",
       "      <th>4</th>\n",
       "      <td>2018</td>\n",
       "      <td>85852</td>\n",
       "      <td>712961</td>\n",
       "    </tr>\n",
       "    <tr>\n",
       "      <th>...</th>\n",
       "      <td>...</td>\n",
       "      <td>...</td>\n",
       "      <td>...</td>\n",
       "    </tr>\n",
       "    <tr>\n",
       "      <th>2495</th>\n",
       "      <td>2015</td>\n",
       "      <td>171112</td>\n",
       "      <td>643581</td>\n",
       "    </tr>\n",
       "    <tr>\n",
       "      <th>2496</th>\n",
       "      <td>2024</td>\n",
       "      <td>93545</td>\n",
       "      <td>889661</td>\n",
       "    </tr>\n",
       "    <tr>\n",
       "      <th>2497</th>\n",
       "      <td>2022</td>\n",
       "      <td>47285</td>\n",
       "      <td>327520</td>\n",
       "    </tr>\n",
       "    <tr>\n",
       "      <th>2498</th>\n",
       "      <td>2019</td>\n",
       "      <td>67437</td>\n",
       "      <td>348921</td>\n",
       "    </tr>\n",
       "    <tr>\n",
       "      <th>2499</th>\n",
       "      <td>2024</td>\n",
       "      <td>88084</td>\n",
       "      <td>955324</td>\n",
       "    </tr>\n",
       "  </tbody>\n",
       "</table>\n",
       "<p>2500 rows × 3 columns</p>\n",
       "</div>"
      ],
      "text/plain": [
       "      Make Year  Mileage   Price\n",
       "0          2018    52798  759107\n",
       "1          2020    43412  505071\n",
       "2          2022    95219  635322\n",
       "3          2024    70370  483152\n",
       "4          2018    85852  712961\n",
       "...         ...      ...     ...\n",
       "2495       2015   171112  643581\n",
       "2496       2024    93545  889661\n",
       "2497       2022    47285  327520\n",
       "2498       2019    67437  348921\n",
       "2499       2024    88084  955324\n",
       "\n",
       "[2500 rows x 3 columns]"
      ]
     },
     "execution_count": 155,
     "metadata": {},
     "output_type": "execute_result"
    }
   ],
   "source": [
    "data"
   ]
  },
  {
   "cell_type": "code",
   "execution_count": 157,
   "metadata": {},
   "outputs": [],
   "source": [
    "data['Make Year'] = pd.to_datetime(data['Make Year'])"
   ]
  },
  {
   "cell_type": "code",
   "execution_count": 158,
   "metadata": {},
   "outputs": [],
   "source": [
    "data['Year'] = data['Make Year'].dt.year"
   ]
  },
  {
   "cell_type": "code",
   "execution_count": 161,
   "metadata": {},
   "outputs": [],
   "source": [
    "data['Label'] = pd.cut(x=df['Year'], bins=[0,2000,2024], \n",
    "                     labels=['Up to 2000', 'After 2020'])"
   ]
  },
  {
   "cell_type": "code",
   "execution_count": 164,
   "metadata": {},
   "outputs": [
    {
     "data": {
      "text/html": [
       "<div>\n",
       "<style scoped>\n",
       "    .dataframe tbody tr th:only-of-type {\n",
       "        vertical-align: middle;\n",
       "    }\n",
       "\n",
       "    .dataframe tbody tr th {\n",
       "        vertical-align: top;\n",
       "    }\n",
       "\n",
       "    .dataframe thead th {\n",
       "        text-align: right;\n",
       "    }\n",
       "</style>\n",
       "<table border=\"1\" class=\"dataframe\">\n",
       "  <thead>\n",
       "    <tr style=\"text-align: right;\">\n",
       "      <th></th>\n",
       "      <th>Make Year</th>\n",
       "      <th>Mileage</th>\n",
       "      <th>Price</th>\n",
       "      <th>Year</th>\n",
       "      <th>Label</th>\n",
       "    </tr>\n",
       "  </thead>\n",
       "  <tbody>\n",
       "    <tr>\n",
       "      <th>0</th>\n",
       "      <td>1970-01-01 00:00:00.000002018</td>\n",
       "      <td>52798</td>\n",
       "      <td>759107</td>\n",
       "      <td>1970</td>\n",
       "      <td>Up to 2000</td>\n",
       "    </tr>\n",
       "    <tr>\n",
       "      <th>1</th>\n",
       "      <td>1970-01-01 00:00:00.000002020</td>\n",
       "      <td>43412</td>\n",
       "      <td>505071</td>\n",
       "      <td>1970</td>\n",
       "      <td>Up to 2000</td>\n",
       "    </tr>\n",
       "    <tr>\n",
       "      <th>2</th>\n",
       "      <td>1970-01-01 00:00:00.000002022</td>\n",
       "      <td>95219</td>\n",
       "      <td>635322</td>\n",
       "      <td>1970</td>\n",
       "      <td>Up to 2000</td>\n",
       "    </tr>\n",
       "    <tr>\n",
       "      <th>3</th>\n",
       "      <td>1970-01-01 00:00:00.000002024</td>\n",
       "      <td>70370</td>\n",
       "      <td>483152</td>\n",
       "      <td>1970</td>\n",
       "      <td>Up to 2000</td>\n",
       "    </tr>\n",
       "    <tr>\n",
       "      <th>4</th>\n",
       "      <td>1970-01-01 00:00:00.000002018</td>\n",
       "      <td>85852</td>\n",
       "      <td>712961</td>\n",
       "      <td>1970</td>\n",
       "      <td>Up to 2000</td>\n",
       "    </tr>\n",
       "    <tr>\n",
       "      <th>...</th>\n",
       "      <td>...</td>\n",
       "      <td>...</td>\n",
       "      <td>...</td>\n",
       "      <td>...</td>\n",
       "      <td>...</td>\n",
       "    </tr>\n",
       "    <tr>\n",
       "      <th>2495</th>\n",
       "      <td>1970-01-01 00:00:00.000002015</td>\n",
       "      <td>171112</td>\n",
       "      <td>643581</td>\n",
       "      <td>1970</td>\n",
       "      <td>Up to 2000</td>\n",
       "    </tr>\n",
       "    <tr>\n",
       "      <th>2496</th>\n",
       "      <td>1970-01-01 00:00:00.000002024</td>\n",
       "      <td>93545</td>\n",
       "      <td>889661</td>\n",
       "      <td>1970</td>\n",
       "      <td>Up to 2000</td>\n",
       "    </tr>\n",
       "    <tr>\n",
       "      <th>2497</th>\n",
       "      <td>1970-01-01 00:00:00.000002022</td>\n",
       "      <td>47285</td>\n",
       "      <td>327520</td>\n",
       "      <td>1970</td>\n",
       "      <td>Up to 2000</td>\n",
       "    </tr>\n",
       "    <tr>\n",
       "      <th>2498</th>\n",
       "      <td>1970-01-01 00:00:00.000002019</td>\n",
       "      <td>67437</td>\n",
       "      <td>348921</td>\n",
       "      <td>1970</td>\n",
       "      <td>Up to 2000</td>\n",
       "    </tr>\n",
       "    <tr>\n",
       "      <th>2499</th>\n",
       "      <td>1970-01-01 00:00:00.000002024</td>\n",
       "      <td>88084</td>\n",
       "      <td>955324</td>\n",
       "      <td>1970</td>\n",
       "      <td>Up to 2000</td>\n",
       "    </tr>\n",
       "  </tbody>\n",
       "</table>\n",
       "<p>2500 rows × 5 columns</p>\n",
       "</div>"
      ],
      "text/plain": [
       "                         Make Year  Mileage   Price  Year       Label\n",
       "0    1970-01-01 00:00:00.000002018    52798  759107  1970  Up to 2000\n",
       "1    1970-01-01 00:00:00.000002020    43412  505071  1970  Up to 2000\n",
       "2    1970-01-01 00:00:00.000002022    95219  635322  1970  Up to 2000\n",
       "3    1970-01-01 00:00:00.000002024    70370  483152  1970  Up to 2000\n",
       "4    1970-01-01 00:00:00.000002018    85852  712961  1970  Up to 2000\n",
       "...                            ...      ...     ...   ...         ...\n",
       "2495 1970-01-01 00:00:00.000002015   171112  643581  1970  Up to 2000\n",
       "2496 1970-01-01 00:00:00.000002024    93545  889661  1970  Up to 2000\n",
       "2497 1970-01-01 00:00:00.000002022    47285  327520  1970  Up to 2000\n",
       "2498 1970-01-01 00:00:00.000002019    67437  348921  1970  Up to 2000\n",
       "2499 1970-01-01 00:00:00.000002024    88084  955324  1970  Up to 2000\n",
       "\n",
       "[2500 rows x 5 columns]"
      ]
     },
     "execution_count": 164,
     "metadata": {},
     "output_type": "execute_result"
    }
   ],
   "source": [
    "data"
   ]
  },
  {
   "cell_type": "code",
   "execution_count": 165,
   "metadata": {},
   "outputs": [
    {
     "name": "stdout",
     "output_type": "stream",
     "text": [
      "  (0, 5)\t1.0\n",
      "  (0, 12)\t1.0\n",
      "  (0, 20)\t1.0\n",
      "  (0, 23)\t1.0\n",
      "  (0, 29)\t1.0\n",
      "  (0, 37)\t1.0\n",
      "  (0, 2101)\t1.0\n",
      "  (0, 3117)\t1.0\n",
      "  (0, 6747)\t1.0\n",
      "  (0, 7519)\t1.0\n",
      "  (0, 7523)\t1.0\n",
      "  (0, 7977)\t1.0\n",
      "  (0, 8377)\t1.0\n",
      "  (0, 8380)\t1.0\n",
      "  (0, 8381)\t1.0\n",
      "  (1, 4)\t1.0\n",
      "  (1, 17)\t1.0\n",
      "  (1, 22)\t1.0\n",
      "  (1, 24)\t1.0\n",
      "  (1, 31)\t1.0\n",
      "  (1, 38)\t1.0\n",
      "  (1, 1953)\t1.0\n",
      "  (1, 2997)\t1.0\n",
      "  (1, 5930)\t1.0\n",
      "  (1, 7517)\t1.0\n",
      "  :\t:\n",
      "  (2498, 37)\t1.0\n",
      "  (2498, 63)\t1.0\n",
      "  (2498, 3314)\t1.0\n",
      "  (2498, 5468)\t1.0\n",
      "  (2498, 7519)\t1.0\n",
      "  (2498, 7525)\t1.0\n",
      "  (2498, 7528)\t1.0\n",
      "  (2498, 8378)\t1.0\n",
      "  (2498, 8380)\t1.0\n",
      "  (2498, 8381)\t1.0\n",
      "  (2499, 7)\t1.0\n",
      "  (2499, 15)\t1.0\n",
      "  (2499, 21)\t1.0\n",
      "  (2499, 23)\t1.0\n",
      "  (2499, 35)\t1.0\n",
      "  (2499, 37)\t1.0\n",
      "  (2499, 441)\t1.0\n",
      "  (2499, 3565)\t1.0\n",
      "  (2499, 7359)\t1.0\n",
      "  (2499, 7517)\t1.0\n",
      "  (2499, 7522)\t1.0\n",
      "  (2499, 7528)\t1.0\n",
      "  (2499, 8378)\t1.0\n",
      "  (2499, 8379)\t1.0\n",
      "  (2499, 8381)\t1.0\n"
     ]
    }
   ],
   "source": [
    "from sklearn.preprocessing import OneHotEncoder\n",
    "encoder = OneHotEncoder()\n",
    "categorical_data_encoded = encoder.fit_transform(df)\n",
    "print(categorical_data_encoded)"
   ]
  },
  {
   "cell_type": "markdown",
   "metadata": {},
   "source": [
    "**Feature Selection:**\n",
    "- Identify highly correlated features to avoid multicollinearity.\n",
    "- Use techniques like PCA or feature importance from models to select the most relevant features."
   ]
  },
  {
   "cell_type": "code",
   "execution_count": null,
   "metadata": {},
   "outputs": [],
   "source": []
  }
 ],
 "metadata": {
  "kernelspec": {
   "display_name": "Python 3 (ipykernel)",
   "language": "python",
   "name": "python3"
  }
 },
 "nbformat": 4,
 "nbformat_minor": 2
}
